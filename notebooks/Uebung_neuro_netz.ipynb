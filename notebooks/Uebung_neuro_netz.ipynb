{
 "cells": [
  {
   "cell_type": "code",
   "execution_count": 12,
   "id": "adf0cae5-663a-408e-a9d7-0ef5cdf35063",
   "metadata": {},
   "outputs": [
    {
     "data": {
      "text/plain": [
       "array([1, 1, 1, 0])"
      ]
     },
     "execution_count": 12,
     "metadata": {},
     "output_type": "execute_result"
    }
   ],
   "source": [
    "import math\n",
    "import numpy as np\n",
    "\n",
    "def sig(x):\n",
    "    return 1.0 / (1.0 + np.exp(-x))\n",
    "\n",
    "t_and = np.array([-30, 20, 20])\n",
    "t_not_and_not = np.array([10, -20, -20])\n",
    "t_or = np.array([-10, 20, 20])\n",
    "\n",
    "x10 = np.array([ 1, 0])\n",
    "x11 = np.array([ 1, 1])\n",
    "x00 = np.array([ 0, 0])\n",
    "x01 = np.array([ 0, 1])\n",
    "\n",
    "def layer(a, w):\n",
    "    a_with_bias = np.concatenate(([1], a))\n",
    "    z = w @ a_with_bias\n",
    "    a_next = sig(z)\n",
    "    return a_next\n",
    "\n",
    "\n",
    "and_res = np.array([\n",
    "round(layer(x10, t_and)),\n",
    "round(layer(x11, t_and)),\n",
    "round(layer(x01, t_and)),\n",
    "round(layer(x00, t_and))])\n",
    "not_and_not_res = np.array([\n",
    "round(layer(x10, t_not_and_not)),\n",
    "round(layer(x11, t_not_and_not)),\n",
    "round(layer(x01, t_not_and_not)),\n",
    "round(layer(x00, t_not_and_not))])\n",
    "or_res = np.array([\n",
    "round(layer(x10, t_or)),\n",
    "round(layer(x11, t_or)),\n",
    "round(layer(x01, t_or)),\n",
    "round(layer(x00, t_or))])\n",
    "or_res"
   ]
  }
 ],
 "metadata": {
  "kernelspec": {
   "display_name": "Python 3 (ipykernel)",
   "language": "python",
   "name": "python3"
  },
  "language_info": {
   "codemirror_mode": {
    "name": "ipython",
    "version": 3
   },
   "file_extension": ".py",
   "mimetype": "text/x-python",
   "name": "python",
   "nbconvert_exporter": "python",
   "pygments_lexer": "ipython3",
   "version": "3.11.7"
  }
 },
 "nbformat": 4,
 "nbformat_minor": 5
}
