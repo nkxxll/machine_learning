import seaborn as sns
import pandas as pd
from sklearn.linear_model import LogisticRegression
import numpy as np
data = pd.read_csv("../data/exam-iq.csv")
sns.scatterplot(x=data.Hours, y=data.IQ, hue=data.Pass)



model = LogisticRegression(random_state=0)
features = ["Hours", "IQ"]
X = data[features].to_numpy(copy=True)
y = np.array(data.Pass)
model.fit(X, y)
model.score(X, y)
